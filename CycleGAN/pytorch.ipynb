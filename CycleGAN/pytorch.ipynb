{
 "cells": [
  {
   "cell_type": "markdown",
   "id": "82b90a7b",
   "metadata": {},
   "source": [
    "### Datasets load\n",
    "!bash ./datasets/download_cyclegan_dataset.sh horse2zebra\n",
    "\n",
    "```\n",
    "bash ./datasets/download_cyclegan_dataset.sh [apple2orange, summer2winter_yosemite, horse2zebra, monet2photo, cezanne2photo, ukiyoe2photo, vangogh2photo, maps, cityscapes, facades, iphone2dslr_flower, ae_photos]\n",
    "Or use your own dataset by creating the appropriate folders and adding in the images.\n",
    "```\n",
    "\n",
    "- Create a dataset folder under /dataset for your dataset.\n",
    "- Create subfolders testA, testB, trainA, and trainB under your dataset's folder. Place any images you want to transform from a to b (cat2dog) in the testA folder, images you want to transform from b to a (dog2cat) in the testB folder, and do the same for the trainA and trainB folders.\n",
    "\n",
    "\n",
    "### pretrained_models\n",
    "!bash ./scripts/download_cyclegan_model.sh horse2zebra\n",
    "\n",
    "### training\n",
    "train.py --dataroot ./datasets/maps --name maps_cyclegan --model cycle_gan --pool_size 50 --no_dropout\n",
    "\n",
    "- `dataroot` config 로 데이터셋 가져오기\n",
    "- `model` config 로 가져오기\n",
    "\n",
    "### test\n",
    "test.py --dataroot datasets/horse2zebra/testA --name horse2zebra_pretrained --model test --no_dropout --use_wandb\n",
    "\n"
   ]
  },
  {
   "cell_type": "code",
   "execution_count": null,
   "id": "ffb0c6d8",
   "metadata": {},
   "outputs": [],
   "source": [
    "set -ex\n",
    "python train.py --dataroot ./datasets/maps --name maps_cyclegan --model cycle_gan --pool_size 50 --no_dropout\n"
   ]
  },
  {
   "cell_type": "code",
   "execution_count": null,
   "id": "c63e39cd",
   "metadata": {},
   "outputs": [],
   "source": [
    "!python test.py --dataroot datasets/horse2zebra/testA --name horse2zebra_pretrained --model test --no_dropout --use_wandb\n"
   ]
  },
  {
   "cell_type": "code",
   "execution_count": null,
   "id": "62aec247",
   "metadata": {},
   "outputs": [],
   "source": [
    "import matplotlib.pyplot as plt\n",
    "\n",
    "img = plt.imread('./results/horse2zebra_pretrained/test_latest/images/n02381460_1010_fake.png')\n",
    "plt.imshow(img)\n"
   ]
  },
  {
   "cell_type": "code",
   "execution_count": null,
   "id": "c4e35b26",
   "metadata": {},
   "outputs": [],
   "source": [
    "import matplotlib.pyplot as plt\n",
    "\n",
    "img = plt.imread('./results/horse2zebra_pretrained/test_latest/images/n02381460_1010_real.png')\n",
    "plt.imshow(img)\n"
   ]
  }
 ],
 "metadata": {
  "kernelspec": {
   "display_name": "Python 3",
   "language": "python",
   "name": "python3"
  },
  "language_info": {
   "codemirror_mode": {
    "name": "ipython",
    "version": 3
   },
   "file_extension": ".py",
   "mimetype": "text/x-python",
   "name": "python",
   "nbconvert_exporter": "python",
   "pygments_lexer": "ipython3",
   "version": "3.8.10"
  },
  "toc": {
   "base_numbering": 1,
   "nav_menu": {},
   "number_sections": false,
   "sideBar": true,
   "skip_h1_title": false,
   "title_cell": "Table of Contents",
   "title_sidebar": "Contents",
   "toc_cell": false,
   "toc_position": {},
   "toc_section_display": true,
   "toc_window_display": false
  }
 },
 "nbformat": 4,
 "nbformat_minor": 5
}
