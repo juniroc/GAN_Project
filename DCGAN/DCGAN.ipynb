{
 "cells": [
  {
   "cell_type": "code",
   "execution_count": 2,
   "id": "cc670cf6",
   "metadata": {
    "ExecuteTime": {
     "end_time": "2022-04-16T14:18:24.742575Z",
     "start_time": "2022-04-16T14:18:20.503442Z"
    }
   },
   "outputs": [],
   "source": [
    "import tensorflow as tf"
   ]
  },
  {
   "cell_type": "code",
   "execution_count": 3,
   "id": "9ea2f9ad",
   "metadata": {
    "ExecuteTime": {
     "end_time": "2022-04-16T14:18:24.747268Z",
     "start_time": "2022-04-16T14:18:24.743686Z"
    }
   },
   "outputs": [
    {
     "data": {
      "text/plain": [
       "'2.5.0'"
      ]
     },
     "execution_count": 3,
     "metadata": {},
     "output_type": "execute_result"
    }
   ],
   "source": [
    "tf.__version__"
   ]
  },
  {
   "cell_type": "code",
   "execution_count": 4,
   "id": "9603edde",
   "metadata": {
    "ExecuteTime": {
     "end_time": "2022-04-16T14:18:24.755387Z",
     "start_time": "2022-04-16T14:18:24.748632Z"
    }
   },
   "outputs": [],
   "source": [
    "# # GIF를 만들기위해 설치합니다.\n",
    "# !pip install -q imageio"
   ]
  },
  {
   "cell_type": "code",
   "execution_count": 5,
   "id": "ced67c33",
   "metadata": {
    "ExecuteTime": {
     "end_time": "2022-04-16T14:18:24.858150Z",
     "start_time": "2022-04-16T14:18:24.756350Z"
    }
   },
   "outputs": [],
   "source": [
    "import glob\n",
    "import imageio\n",
    "import matplotlib.pyplot as plt\n",
    "import numpy as np\n",
    "import os\n",
    "import PIL\n",
    "from tensorflow.keras import layers\n",
    "import time\n",
    "from IPython import display"
   ]
  },
  {
   "cell_type": "code",
   "execution_count": 15,
   "id": "71911404",
   "metadata": {
    "ExecuteTime": {
     "end_time": "2022-04-16T14:19:12.972320Z",
     "start_time": "2022-04-16T14:19:12.815985Z"
    }
   },
   "outputs": [],
   "source": [
    "(train_images, train_labels), (_, _) = tf.keras.datasets.mnist.load_data()"
   ]
  },
  {
   "cell_type": "code",
   "execution_count": 18,
   "id": "e9b60fef",
   "metadata": {
    "ExecuteTime": {
     "end_time": "2022-04-16T14:19:20.514614Z",
     "start_time": "2022-04-16T14:19:20.512550Z"
    }
   },
   "outputs": [
    {
     "data": {
      "text/plain": [
       "(60000, 28, 28)"
      ]
     },
     "execution_count": 18,
     "metadata": {},
     "output_type": "execute_result"
    }
   ],
   "source": [
    "train_images.shape"
   ]
  },
  {
   "cell_type": "code",
   "execution_count": 25,
   "id": "4d30a472",
   "metadata": {
    "ExecuteTime": {
     "end_time": "2022-04-16T14:21:07.682763Z",
     "start_time": "2022-04-16T14:21:07.665219Z"
    }
   },
   "outputs": [],
   "source": [
    "train_images = train_images.reshape(train_images.shape[0], 28, 28, 1).astype('float32')"
   ]
  },
  {
   "cell_type": "code",
   "execution_count": 26,
   "id": "58d22a9d",
   "metadata": {
    "ExecuteTime": {
     "end_time": "2022-04-16T14:21:07.887295Z",
     "start_time": "2022-04-16T14:21:07.854071Z"
    }
   },
   "outputs": [],
   "source": [
    "train_images = (train_images - 127.5) / 127.5"
   ]
  },
  {
   "cell_type": "code",
   "execution_count": 27,
   "id": "b873d5f0",
   "metadata": {
    "ExecuteTime": {
     "end_time": "2022-04-16T14:21:08.091667Z",
     "start_time": "2022-04-16T14:21:08.089522Z"
    }
   },
   "outputs": [
    {
     "data": {
      "text/plain": [
       "(60000, 28, 28, 1)"
      ]
     },
     "execution_count": 27,
     "metadata": {},
     "output_type": "execute_result"
    }
   ],
   "source": [
    "train_images.shape"
   ]
  },
  {
   "cell_type": "code",
   "execution_count": 28,
   "id": "30787f50",
   "metadata": {
    "ExecuteTime": {
     "end_time": "2022-04-16T14:21:08.605453Z",
     "start_time": "2022-04-16T14:21:08.604065Z"
    }
   },
   "outputs": [],
   "source": [
    "BUFFER_SIZE = 60000\n",
    "BATCH_SIZE = 256"
   ]
  },
  {
   "cell_type": "code",
   "execution_count": 29,
   "id": "fa105759",
   "metadata": {
    "ExecuteTime": {
     "end_time": "2022-04-16T14:21:09.797822Z",
     "start_time": "2022-04-16T14:21:09.004245Z"
    }
   },
   "outputs": [],
   "source": [
    "# 데이터 배치를 만들고 섞습니다.\n",
    "train_dataset = tf.data.Dataset.from_tensor_slices(train_images).shuffle(BUFFER_SIZE).batch(BATCH_SIZE)"
   ]
  },
  {
   "cell_type": "code",
   "execution_count": 31,
   "id": "2d68b1ef",
   "metadata": {
    "ExecuteTime": {
     "end_time": "2022-04-16T14:21:24.500295Z",
     "start_time": "2022-04-16T14:21:24.495903Z"
    }
   },
   "outputs": [],
   "source": [
    "def make_generator_model():\n",
    "    model = tf.keras.Sequential()\n",
    "    model.add(layers.Dense(7*7*256, use_bias=False, input_shape=(100,)))\n",
    "    model.add(layers.BatchNormalization())\n",
    "    model.add(layers.LeakyReLU())\n",
    "\n",
    "    model.add(layers.Reshape((7, 7, 256)))\n",
    "    assert model.output_shape == (None, 7, 7, 256) # 주목: 배치사이즈로 None이 주어집니다.\n",
    "\n",
    "    model.add(layers.Conv2DTranspose(128, (5, 5), strides=(1, 1), padding='same', use_bias=False))\n",
    "    assert model.output_shape == (None, 7, 7, 128)\n",
    "    model.add(layers.BatchNormalization())\n",
    "    model.add(layers.LeakyReLU())\n",
    "\n",
    "    model.add(layers.Conv2DTranspose(64, (5, 5), strides=(2, 2), padding='same', use_bias=False))\n",
    "    assert model.output_shape == (None, 14, 14, 64)\n",
    "    model.add(layers.BatchNormalization())\n",
    "    model.add(layers.LeakyReLU())\n",
    "\n",
    "    model.add(layers.Conv2DTranspose(1, (5, 5), strides=(2, 2), padding='same', use_bias=False, activation='tanh'))\n",
    "    assert model.output_shape == (None, 28, 28, 1)\n",
    "\n",
    "    return model"
   ]
  },
  {
   "cell_type": "code",
   "execution_count": 32,
   "id": "76b5c728",
   "metadata": {
    "ExecuteTime": {
     "end_time": "2022-04-16T14:21:36.206397Z",
     "start_time": "2022-04-16T14:21:32.980534Z"
    }
   },
   "outputs": [
    {
     "data": {
      "text/plain": [
       "<matplotlib.image.AxesImage at 0x7f80f3254fa0>"
      ]
     },
     "execution_count": 32,
     "metadata": {},
     "output_type": "execute_result"
    },
    {
     "data": {
      "image/png": "[encoded data removed]",
      "text/plain": [
       "<Figure size 432x288 with 1 Axes>"
      ]
     },
     "metadata": {
      "needs_background": "light"
     },
     "output_type": "display_data"
    }
   ],
   "source": [
    "generator = make_generator_model()\n",
    "\n",
    "noise = tf.random.normal([1, 100])\n",
    "generated_image = generator(noise, training=False)\n",
    "\n",
    "plt.imshow(generated_image[0, :, :, 0], cmap='gray')"
   ]
  },
  {
   "cell_type": "code",
   "execution_count": 34,
   "id": "7db9b805",
   "metadata": {
    "ExecuteTime": {
     "end_time": "2022-04-16T14:22:00.666951Z",
     "start_time": "2022-04-16T14:22:00.663920Z"
    }
   },
   "outputs": [],
   "source": [
    "def make_discriminator_model():\n",
    "    model = tf.keras.Sequential()\n",
    "    model.add(layers.Conv2D(64, (5, 5), strides=(2, 2), padding='same',\n",
    "                                     input_shape=[28, 28, 1]))\n",
    "    model.add(layers.LeakyReLU())\n",
    "    model.add(layers.Dropout(0.3))\n",
    "\n",
    "    model.add(layers.Conv2D(128, (5, 5), strides=(2, 2), padding='same'))\n",
    "    model.add(layers.LeakyReLU())\n",
    "    model.add(layers.Dropout(0.3))\n",
    "\n",
    "    model.add(layers.Flatten())\n",
    "    model.add(layers.Dense(1))\n",
    "\n",
    "    return model"
   ]
  },
  {
   "cell_type": "code",
   "execution_count": 35,
   "id": "7c98d951",
   "metadata": {
    "ExecuteTime": {
     "end_time": "2022-04-16T14:22:00.914320Z",
     "start_time": "2022-04-16T14:22:00.818419Z"
    }
   },
   "outputs": [
    {
     "name": "stdout",
     "output_type": "stream",
     "text": [
      "tf.Tensor([[-0.00027318]], shape=(1, 1), dtype=float32)\n"
     ]
    }
   ],
   "source": [
    "discriminator = make_discriminator_model()\n",
    "decision = discriminator(generated_image)\n",
    "print (decision)"
   ]
  },
  {
   "cell_type": "code",
   "execution_count": 36,
   "id": "1dd5fe1b",
   "metadata": {
    "ExecuteTime": {
     "end_time": "2022-04-16T14:22:13.129245Z",
     "start_time": "2022-04-16T14:22:13.127532Z"
    }
   },
   "outputs": [],
   "source": [
    "# 이 메서드는 크로스 엔트로피 손실함수 (cross entropy loss)를 계산하기 위해 헬퍼 (helper) 함수를 반환합니다.\n",
    "cross_entropy = tf.keras.losses.BinaryCrossentropy(from_logits=True)"
   ]
  },
  {
   "cell_type": "code",
   "execution_count": 37,
   "id": "0c1d7acd",
   "metadata": {
    "ExecuteTime": {
     "end_time": "2022-04-16T14:22:20.051859Z",
     "start_time": "2022-04-16T14:22:20.049879Z"
    }
   },
   "outputs": [],
   "source": [
    "def discriminator_loss(real_output, fake_output):\n",
    "    real_loss = cross_entropy(tf.ones_like(real_output), real_output)\n",
    "    fake_loss = cross_entropy(tf.zeros_like(fake_output), fake_output)\n",
    "    total_loss = real_loss + fake_loss\n",
    "    return total_loss"
   ]
  },
  {
   "cell_type": "code",
   "execution_count": 38,
   "id": "046e54bd",
   "metadata": {
    "ExecuteTime": {
     "end_time": "2022-04-16T14:22:25.783256Z",
     "start_time": "2022-04-16T14:22:25.781580Z"
    }
   },
   "outputs": [],
   "source": [
    "def generator_loss(fake_output):\n",
    "    return cross_entropy(tf.ones_like(fake_output), fake_output)"
   ]
  },
  {
   "cell_type": "code",
   "execution_count": 39,
   "id": "6babe028",
   "metadata": {
    "ExecuteTime": {
     "end_time": "2022-04-16T14:22:30.689958Z",
     "start_time": "2022-04-16T14:22:30.688070Z"
    }
   },
   "outputs": [],
   "source": [
    "generator_optimizer = tf.keras.optimizers.Adam(1e-4)\n",
    "discriminator_optimizer = tf.keras.optimizers.Adam(1e-4)"
   ]
  },
  {
   "cell_type": "code",
   "execution_count": 40,
   "id": "c5036f8e",
   "metadata": {
    "ExecuteTime": {
     "end_time": "2022-04-16T14:22:38.724775Z",
     "start_time": "2022-04-16T14:22:38.722596Z"
    }
   },
   "outputs": [],
   "source": [
    "checkpoint_dir = './training_checkpoints'\n",
    "checkpoint_prefix = os.path.join(checkpoint_dir, \"ckpt\")\n",
    "checkpoint = tf.train.Checkpoint(generator_optimizer=generator_optimizer,\n",
    "                                 discriminator_optimizer=discriminator_optimizer,\n",
    "                                 generator=generator,\n",
    "                                 discriminator=discriminator)"
   ]
  },
  {
   "cell_type": "code",
   "execution_count": 41,
   "id": "f7536b6c",
   "metadata": {
    "ExecuteTime": {
     "end_time": "2022-04-16T14:22:49.355393Z",
     "start_time": "2022-04-16T14:22:49.347919Z"
    }
   },
   "outputs": [],
   "source": [
    "EPOCHS = 50\n",
    "noise_dim = 100\n",
    "num_examples_to_generate = 16\n",
    "\n",
    "# 이 시드를 시간이 지나도 재활용하겠습니다. \n",
    "# (GIF 애니메이션에서 진전 내용을 시각화하는데 쉽기 때문입니다.) \n",
    "seed = tf.random.normal([num_examples_to_generate, noise_dim])"
   ]
  },
  {
   "cell_type": "code",
   "execution_count": 45,
   "id": "d68a7f1f",
   "metadata": {
    "ExecuteTime": {
     "end_time": "2022-04-16T14:24:07.186342Z",
     "start_time": "2022-04-16T14:24:07.183118Z"
    }
   },
   "outputs": [],
   "source": [
    "# `tf.function`이 어떻게 사용되는지 주목해 주세요.\n",
    "# 이 데코레이터는 함수를 \"컴파일\"합니다.\n",
    "@tf.function\n",
    "def train_step(images):\n",
    "    noise = tf.random.normal([BATCH_SIZE, noise_dim])\n",
    "\n",
    "    with tf.GradientTape() as gen_tape, tf.GradientTape() as disc_tape:\n",
    "        generated_images = generator(noise, training=True)\n",
    "\n",
    "        real_output = discriminator(images, training=True)\n",
    "        fake_output = discriminator(generated_images, training=True)\n",
    "\n",
    "        gen_loss = generator_loss(fake_output)\n",
    "        disc_loss = discriminator_loss(real_output, fake_output)\n",
    "\n",
    "    gradients_of_generator = gen_tape.gradient(gen_loss, generator.trainable_variables)\n",
    "    gradients_of_discriminator = disc_tape.gradient(disc_loss, discriminator.trainable_variables)\n",
    "\n",
    "    generator_optimizer.apply_gradients(zip(gradients_of_generator, generator.trainable_variables))\n",
    "    discriminator_optimizer.apply_gradients(zip(gradients_of_discriminator, discriminator.trainable_variables))"
   ]
  },
  {
   "cell_type": "code",
   "execution_count": 46,
   "id": "d7457ca3",
   "metadata": {
    "ExecuteTime": {
     "end_time": "2022-04-16T14:24:07.886345Z",
     "start_time": "2022-04-16T14:24:07.883606Z"
    }
   },
   "outputs": [],
   "source": [
    "def train(dataset, epochs):\n",
    "    for epoch in range(epochs):\n",
    "        start = time.time()\n",
    "\n",
    "        for image_batch in dataset:\n",
    "            train_step(image_batch)\n",
    "\n",
    "        # GIF를 위한 이미지를 바로 생성합니다.\n",
    "        display.clear_output(wait=True)\n",
    "        generate_and_save_images(generator,\n",
    "                                 epoch + 1,\n",
    "                                 seed)\n",
    "\n",
    "        # 15 에포크가 지날 때마다 모델을 저장합니다.\n",
    "        if (epoch + 1) % 15 == 0:\n",
    "            checkpoint.save(file_prefix = checkpoint_prefix)\n",
    "\n",
    "        # print (' 에포크 {} 에서 걸린 시간은 {} 초 입니다'.format(epoch +1, time.time()-start))\n",
    "        print ('Time for epoch {} is {} sec'.format(epoch + 1, time.time()-start))\n",
    "\n",
    "    # 마지막 에포크가 끝난 후 생성합니다.\n",
    "    display.clear_output(wait=True)\n",
    "    generate_and_save_images(generator,\n",
    "                           epochs,\n",
    "                           seed)"
   ]
  },
  {
   "cell_type": "code",
   "execution_count": 47,
   "id": "e1eb8842",
   "metadata": {
    "ExecuteTime": {
     "end_time": "2022-04-16T14:24:30.830921Z",
     "start_time": "2022-04-16T14:24:30.828119Z"
    }
   },
   "outputs": [],
   "source": [
    "def generate_and_save_images(model, epoch, test_input):\n",
    "    # `training`이 False로 맞춰진 것을 주목하세요.\n",
    "    # 이렇게 하면 (배치정규화를 포함하여) 모든 층들이 추론 모드로 실행됩니다. \n",
    "    predictions = model(test_input, training=False)\n",
    "\n",
    "    fig = plt.figure(figsize=(4,4))\n",
    "\n",
    "    for i in range(predictions.shape[0]):\n",
    "        plt.subplot(4, 4, i+1)\n",
    "        plt.imshow(predictions[i, :, :, 0] * 127.5 + 127.5, cmap='gray')\n",
    "        plt.axis('off')\n",
    "\n",
    "    plt.savefig('image_at_epoch_{:04d}.png'.format(epoch))\n",
    "    plt.show()"
   ]
  },
  {
   "cell_type": "code",
   "execution_count": 48,
   "id": "90be3e06",
   "metadata": {
    "ExecuteTime": {
     "end_time": "2022-04-16T14:33:26.510634Z",
     "start_time": "2022-04-16T14:24:35.254456Z"
    }
   },
   "outputs": [
    {
     "data": {
      "image/png": "[encoded data removed]",
      "text/plain": [
       "<Figure size 288x288 with 16 Axes>"
      ]
     },
     "metadata": {
      "needs_background": "light"
     },
     "output_type": "display_data"
    },
    {
     "name": "stdout",
     "output_type": "stream",
     "text": [
      "CPU times: user 1min 15s, sys: 2.23 s, total: 1min 17s\n",
      "Wall time: 8min 51s\n"
     ]
    }
   ],
   "source": [
    "%%time\n",
    "train(train_dataset, EPOCHS)"
   ]
  },
  {
   "cell_type": "code",
   "execution_count": 49,
   "id": "60e47ff4",
   "metadata": {
    "ExecuteTime": {
     "end_time": "2022-04-16T14:34:22.949637Z",
     "start_time": "2022-04-16T14:34:22.909591Z"
    }
   },
   "outputs": [
    {
     "data": {
      "text/plain": [
       "<tensorflow.python.training.tracking.util.CheckpointLoadStatus at 0x7f80540a09d0>"
      ]
     },
     "execution_count": 49,
     "metadata": {},
     "output_type": "execute_result"
    }
   ],
   "source": [
    "checkpoint.restore(tf.train.latest_checkpoint(checkpoint_dir))"
   ]
  },
  {
   "cell_type": "code",
   "execution_count": 51,
   "id": "69de17b7",
   "metadata": {
    "ExecuteTime": {
     "end_time": "2022-04-16T14:34:36.100340Z",
     "start_time": "2022-04-16T14:34:36.098574Z"
    }
   },
   "outputs": [],
   "source": [
    "# 에포크 숫자를 사용하여 하나의 이미지를 보여줍니다.\n",
    "def display_image(epoch_no):\n",
    "    return PIL.Image.open('image_at_epoch_{:04d}.png'.format(epoch_no))"
   ]
  },
  {
   "cell_type": "code",
   "execution_count": 53,
   "id": "5d4f3a7d",
   "metadata": {
    "ExecuteTime": {
     "end_time": "2022-04-16T14:34:56.877094Z",
     "start_time": "2022-04-16T14:34:56.874940Z"
    }
   },
   "outputs": [
    {
     "data": {
      "text/plain": [
       "50"
      ]
     },
     "execution_count": 53,
     "metadata": {},
     "output_type": "execute_result"
    }
   ],
   "source": [
    "EPOCHS"
   ]
  },
  {
   "cell_type": "code",
   "execution_count": 65,
   "id": "1edd437f",
   "metadata": {
    "ExecuteTime": {
     "end_time": "2022-04-16T14:35:19.566234Z",
     "start_time": "2022-04-16T14:35:19.555111Z"
    }
   },
   "outputs": [
    {
     "data": {
      "image/png": "[encoded data removed]",
      "text/plain": [
       "<PIL.PngImagePlugin.PngImageFile image mode=RGBA size=288x288 at 0x7F80540B1CD0>"
      ]
     },
     "execution_count": 65,
     "metadata": {},
     "output_type": "execute_result"
    }
   ],
   "source": [
    "display_image(47)"
   ]
  },
  {
   "cell_type": "code",
   "execution_count": null,
   "id": "99214311",
   "metadata": {},
   "outputs": [],
   "source": []
  },
  {
   "cell_type": "code",
   "execution_count": null,
   "id": "8f38c629",
   "metadata": {},
   "outputs": [],
   "source": []
  },
  {
   "cell_type": "code",
   "execution_count": null,
   "id": "00e6673b",
   "metadata": {},
   "outputs": [],
   "source": []
  },
  {
   "cell_type": "code",
   "execution_count": null,
   "id": "942682f1",
   "metadata": {},
   "outputs": [],
   "source": []
  },
  {
   "cell_type": "code",
   "execution_count": 9,
   "id": "c9dc9d0f",
   "metadata": {
    "ExecuteTime": {
     "end_time": "2022-04-16T14:18:32.044120Z",
     "start_time": "2022-04-16T14:18:32.041763Z"
    },
    "scrolled": true
   },
   "outputs": [
    {
     "data": {
      "text/plain": [
       "(28, 28, 1)"
      ]
     },
     "execution_count": 9,
     "metadata": {},
     "output_type": "execute_result"
    }
   ],
   "source": [
    "train_images[0].shape"
   ]
  },
  {
   "cell_type": "code",
   "execution_count": 19,
   "id": "7c3003ec",
   "metadata": {
    "ExecuteTime": {
     "end_time": "2022-04-16T14:19:26.965172Z",
     "start_time": "2022-04-16T14:19:26.943855Z"
    }
   },
   "outputs": [],
   "source": [
    "target_image = PIL.Image.open('./images/훠궝영2.png')\n",
    "ori_image = PIL.Image.open('./images/허경영2.png')"
   ]
  },
  {
   "cell_type": "code",
   "execution_count": null,
   "id": "95c38a11",
   "metadata": {},
   "outputs": [],
   "source": [
    "target_image"
   ]
  },
  {
   "cell_type": "code",
   "execution_count": 20,
   "id": "6f9dda63",
   "metadata": {
    "ExecuteTime": {
     "end_time": "2022-04-16T14:19:27.332131Z",
     "start_time": "2022-04-16T14:19:27.330208Z"
    }
   },
   "outputs": [
    {
     "data": {
      "text/plain": [
       "(362, 364)"
      ]
     },
     "execution_count": 20,
     "metadata": {},
     "output_type": "execute_result"
    }
   ],
   "source": [
    "target_image.size"
   ]
  },
  {
   "cell_type": "code",
   "execution_count": 21,
   "id": "84e3c535",
   "metadata": {
    "ExecuteTime": {
     "end_time": "2022-04-15T09:09:45.162700Z",
     "start_time": "2022-04-15T09:09:45.160615Z"
    }
   },
   "outputs": [
    {
     "data": {
      "text/plain": [
       "(362, 364)"
      ]
     },
     "execution_count": 21,
     "metadata": {},
     "output_type": "execute_result"
    }
   ],
   "source": [
    "target_image.size"
   ]
  },
  {
   "cell_type": "code",
   "execution_count": 40,
   "id": "842f511a",
   "metadata": {
    "ExecuteTime": {
     "end_time": "2022-04-15T09:13:35.593463Z",
     "start_time": "2022-04-15T09:13:35.591343Z"
    }
   },
   "outputs": [
    {
     "data": {
      "text/plain": [
       "(362, 364)"
      ]
     },
     "execution_count": 40,
     "metadata": {},
     "output_type": "execute_result"
    }
   ],
   "source": [
    "ori_image.size"
   ]
  },
  {
   "cell_type": "code",
   "execution_count": 23,
   "id": "4dbf72b6",
   "metadata": {
    "ExecuteTime": {
     "end_time": "2022-04-16T14:19:51.384360Z",
     "start_time": "2022-04-16T14:19:51.382155Z"
    }
   },
   "outputs": [
    {
     "data": {
      "text/plain": [
       "(364, 362, 4)"
      ]
     },
     "execution_count": 23,
     "metadata": {},
     "output_type": "execute_result"
    }
   ],
   "source": [
    "np.asarray(target_image).shape"
   ]
  },
  {
   "cell_type": "code",
   "execution_count": 26,
   "id": "c48594f4",
   "metadata": {
    "ExecuteTime": {
     "end_time": "2022-04-15T09:10:27.741185Z",
     "start_time": "2022-04-15T09:10:27.734286Z"
    }
   },
   "outputs": [
    {
     "data": {
      "text/plain": [
       "array([[[255, 255, 255, 255],\n",
       "        [255, 255, 255, 255],\n",
       "        [255, 255, 255, 255],\n",
       "        ...,\n",
       "        [255, 255, 255, 255],\n",
       "        [255, 255, 255, 255],\n",
       "        [255, 255, 255, 255]],\n",
       "\n",
       "       [[255, 255, 255, 255],\n",
       "        [255, 255, 255, 255],\n",
       "        [255, 255, 255, 255],\n",
       "        ...,\n",
       "        [255, 255, 255, 255],\n",
       "        [255, 255, 255, 255],\n",
       "        [255, 255, 255, 255]],\n",
       "\n",
       "       [[148, 104,  50, 255],\n",
       "        [140,  98,  45, 255],\n",
       "        [132,  91,  39, 255],\n",
       "        ...,\n",
       "        [ 76,  43,  23, 255],\n",
       "        [ 77,  43,  23, 255],\n",
       "        [ 77,  44,  23, 255]],\n",
       "\n",
       "       ...,\n",
       "\n",
       "       [[ 36,  19,   2, 255],\n",
       "        [ 32,  18,   2, 255],\n",
       "        [ 44,  32,  20, 255],\n",
       "        ...,\n",
       "        [ 30,  17,  12, 255],\n",
       "        [ 30,  17,  12, 255],\n",
       "        [ 29,  17,  13, 255]],\n",
       "\n",
       "       [[ 49,  32,  17, 255],\n",
       "        [ 47,  33,  19, 255],\n",
       "        [ 63,  50,  35, 255],\n",
       "        ...,\n",
       "        [ 30,  17,  12, 255],\n",
       "        [ 30,  17,  13, 255],\n",
       "        [ 30,  17,  14, 255]],\n",
       "\n",
       "       [[ 54,  36,  20, 255],\n",
       "        [ 53,  38,  23, 255],\n",
       "        [ 66,  52,  39, 255],\n",
       "        ...,\n",
       "        [ 31,  16,  13, 255],\n",
       "        [ 30,  16,  14, 255],\n",
       "        [ 30,  16,  14, 255]]], dtype=uint8)"
      ]
     },
     "execution_count": 26,
     "metadata": {},
     "output_type": "execute_result"
    }
   ],
   "source": [
    "np.asarray(ori_image)"
   ]
  },
  {
   "cell_type": "code",
   "execution_count": null,
   "id": "04268293",
   "metadata": {},
   "outputs": [],
   "source": []
  }
 ],
 "metadata": {
  "kernelspec": {
   "display_name": "Python 3",
   "language": "python",
   "name": "python3"
  },
  "language_info": {
   "codemirror_mode": {
    "name": "ipython",
    "version": 3
   },
   "file_extension": ".py",
   "mimetype": "text/x-python",
   "name": "python",
   "nbconvert_exporter": "python",
   "pygments_lexer": "ipython3",
   "version": "3.8.10"
  },
  "toc": {
   "base_numbering": 1,
   "nav_menu": {},
   "number_sections": false,
   "sideBar": true,
   "skip_h1_title": false,
   "title_cell": "Table of Contents",
   "title_sidebar": "Contents",
   "toc_cell": false,
   "toc_position": {},
   "toc_section_display": true,
   "toc_window_display": false
  }
 },
 "nbformat": 4,
 "nbformat_minor": 5
}
